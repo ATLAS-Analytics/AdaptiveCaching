{
 "cells": [
  {
   "cell_type": "code",
   "execution_count": 1,
   "metadata": {},
   "outputs": [],
   "source": [
    "import sys\n",
    "from datetime import datetime\n",
    "import json\n",
    "from elasticsearch import Elasticsearch, exceptions as es_exceptions\n",
    "from elasticsearch.helpers import scan\n",
    "import pandas as pd"
   ]
  },
  {
   "cell_type": "code",
   "execution_count": 2,
   "metadata": {},
   "outputs": [],
   "source": [
    "with open('config.json') as json_data:\n",
    "    config = json.load(json_data,)"
   ]
  },
  {
   "cell_type": "code",
   "execution_count": 3,
   "metadata": {},
   "outputs": [],
   "source": [
    "ind = 'xc-gstream'\n",
    "KB=1024\n",
    "MB=KB*1024\n",
    "GB=MB*1024\n",
    "TB=GB*1024"
   ]
  },
  {
   "cell_type": "code",
   "execution_count": 4,
   "metadata": {},
   "outputs": [
    {
     "name": "stdout",
     "output_type": "stream",
     "text": [
      "connected to ES.\n"
     ]
    }
   ],
   "source": [
    "es = Elasticsearch(\n",
    "    hosts=[{'host': config['ES_HOST'], 'scheme':'https', 'port':9200}],\n",
    "    basic_auth=(config['ES_USER'], config['ES_PASS']),\n",
    "    request_timeout=60)\n",
    "\n",
    "if es.ping():\n",
    "    print('connected to ES.')\n",
    "else:\n",
    "    print('no connection to ES.')\n",
    "    sys.exit(1)"
   ]
  },
  {
   "cell_type": "code",
   "execution_count": 5,
   "metadata": {},
   "outputs": [
    {
     "name": "stdout",
     "output_type": "stream",
     "text": [
      "start: 2021-06-12 00:00:00 \n",
      "stop:  2021-06-21 00:00:00\n"
     ]
    }
   ],
   "source": [
    "start_int = '2022-06-01 00:00'\n",
    "stop_int = '2022-12-21 00:00'\n",
    "start_dt = datetime.strptime(start_int, '%Y-%m-%d %H:%M')\n",
    "stop_dt = datetime.strptime(stop_int, '%Y-%m-%d %H:%M')\n",
    "print('start:', start_dt, '\\nstop: ', stop_dt)"
   ]
  },
  {
   "cell_type": "code",
   "execution_count": 6,
   "metadata": {},
   "outputs": [],
   "source": [
    "query={\n",
    "    \"_source\": ['host', 'access_cnt','lfn', 'size', 'b_bypass', 'b_hit', 'b_miss', 'n_blks', 'n_blks_done'],\n",
    "    \"query\": {\n",
    "        \"range\": {\n",
    "            \"@timestamp\": {\n",
    "                \"gt\": int(start_dt.timestamp()*1000),\n",
    "                \"lte\": int(stop_dt.timestamp()*1000)\n",
    "            }\n",
    "        }\n",
    "    }\n",
    "}"
   ]
  },
  {
   "cell_type": "code",
   "execution_count": 7,
   "metadata": {
    "tags": []
   },
   "outputs": [
    {
     "name": "stdout",
     "output_type": "stream",
     "text": [
      "docs read 20000\n",
      "docs read 40000\n",
      "docs read 60000\n",
      "docs read 80000\n",
      "docs read 100000\n",
      "docs read 120000\n",
      "docs read 140000\n",
      "docs read 160000\n",
      "docs read 180000\n",
      "docs read 200000\n",
      "docs read 220000\n",
      "docs read 240000\n",
      "docs read 260000\n",
      "docs read 280000\n",
      "docs read 300000\n",
      "docs read 320000\n",
      "docs read 340000\n",
      "docs read 360000\n",
      "docs read 380000\n",
      "docs read 400000\n",
      "docs read 420000\n",
      "docs read 440000\n",
      "docs read 460000\n",
      "docs read 480000\n",
      "docs read 500000\n",
      "docs read 520000\n",
      "docs read 540000\n",
      "docs read 560000\n",
      "docs read 580000\n",
      "docs read 600000\n",
      "docs read 620000\n",
      "docs read 640000\n",
      "docs read 660000\n",
      "docs read 680000\n",
      "docs read 700000\n",
      "docs read 720000\n",
      "docs read 740000\n",
      "docs read 760000\n",
      "docs read 780000\n",
      "docs read 800000\n",
      "docs read 820000\n",
      "docs read 840000\n",
      "docs read 860000\n",
      "docs read 880000\n",
      "docs read 900000\n",
      "docs read 920000\n",
      "docs read 940000\n",
      "docs read 960000\n",
      "read: 964278\n"
     ]
    }
   ],
   "source": [
    "data = {'access':[], 'host':[], 'lfn':[], 'scope':[], 'fn':[], \n",
    "'b_hit':[], 'b_miss':[], 'b_bypass':[], 'fsize':[], 'fill':[]}\n",
    "docs_read = 0\n",
    "scroll = scan(client=es, index=ind, query=query, timeout=\"5m\")\n",
    "for res in scroll:\n",
    "    docs_read += 1\n",
    "    if not docs_read % 50000:\n",
    "        print('docs read', docs_read)\n",
    "    # print(res)\n",
    "    # break\n",
    "    if not 'host' in res['_source']:\n",
    "        print('bad document:', res)\n",
    "        continue\n",
    "    data['host'].append(res['_source']['host'])\n",
    "    data['access'].append(res['_source']['access_cnt'])\n",
    "    lfn=res['_source']['lfn'][12:]\n",
    "    data['lfn'].append(lfn)\n",
    "    data['scope'].append(lfn[:lfn.find('/')])\n",
    "    data['fn'].append(lfn[lfn.rfind('/')+1:])\n",
    "    data['b_hit'].append(res['_source']['b_hit'])\n",
    "    data['b_miss'].append(res['_source']['b_miss'])\n",
    "    data['b_bypass'].append(res['_source']['b_bypass'])\n",
    "    data['fsize'].append(res['_source']['size'])\n",
    "    data['fill'].append(res['_source']['n_blks_done']/res['_source']['n_blks'])\n",
    "print('read:', docs_read)"
   ]
  },
  {
   "cell_type": "code",
   "execution_count": 9,
   "metadata": {},
   "outputs": [
    {
     "data": {
      "text/plain": [
       "read perc     1.317715e-01\n",
       "tot hit       1.389763e+02\n",
       "tot miss      6.407506e+01\n",
       "tot bypass    6.980863e+12\n",
       "dtype: float64"
      ]
     },
     "execution_count": 9,
     "metadata": {},
     "output_type": "execute_result"
    }
   ],
   "source": [
    "df= pd.DataFrame.from_dict(data)\n",
    "df.to_parquet('data/xcache_2022_II.parquet')  \n",
    "df.head()\n"
   ]
  }
 ],
 "metadata": {
  "kernelspec": {
   "display_name": "Python 3",
   "language": "python",
   "name": "python3"
  },
  "language_info": {
   "codemirror_mode": {
    "name": "ipython",
    "version": 3
   },
   "file_extension": ".py",
   "mimetype": "text/x-python",
   "name": "python",
   "nbconvert_exporter": "python",
   "pygments_lexer": "ipython3",
   "version": "3.8.10 (tags/v3.8.10:3d8993a, May  3 2021, 11:48:03) [MSC v.1928 64 bit (AMD64)]"
  },
  "metadata": {
   "interpreter": {
    "hash": "b0fd81116839c8ba9399dcfb2eae5ba98e1e79c2454f8cc2afdf03430767bf47"
   }
  },
  "orig_nbformat": 2,
  "vscode": {
   "interpreter": {
    "hash": "6de901b11d06e4b44e036d3fc3c35e3a50f57bab0f4138079b9450aa16e5c10b"
   }
  }
 },
 "nbformat": 4,
 "nbformat_minor": 2
}
