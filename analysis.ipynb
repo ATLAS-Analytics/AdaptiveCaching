{
 "cells": [
  {
   "cell_type": "code",
   "execution_count": 14,
   "metadata": {},
   "outputs": [],
   "source": [
    "import sys\n",
    "from datetime import datetime\n",
    "import numpy as np\n",
    "import pandas as pd\n",
    "import matplotlib.pyplot as plt\n",
    "# import seaborn as sns\n",
    "# import sklearn as sk\n",
    "# from sklearn.discriminant_analysis import LinearDiscriminantAnalysis\n",
    "# from sklearn.model_selection import cross_val_score\n",
    "# from sklearn.tree import DecisionTreeClassifier"
   ]
  },
  {
   "cell_type": "code",
   "execution_count": 2,
   "metadata": {},
   "outputs": [],
   "source": [
    "KB=1024\n",
    "MB=KB*1024\n",
    "GB=MB*1024\n",
    "TB=GB*1024"
   ]
  },
  {
   "cell_type": "code",
   "execution_count": 3,
   "metadata": {},
   "outputs": [
    {
     "data": {
      "text/html": [
       "<div>\n",
       "<style scoped>\n",
       "    .dataframe tbody tr th:only-of-type {\n",
       "        vertical-align: middle;\n",
       "    }\n",
       "\n",
       "    .dataframe tbody tr th {\n",
       "        vertical-align: top;\n",
       "    }\n",
       "\n",
       "    .dataframe thead th {\n",
       "        text-align: right;\n",
       "    }\n",
       "</style>\n",
       "<table border=\"1\" class=\"dataframe\">\n",
       "  <thead>\n",
       "    <tr style=\"text-align: right;\">\n",
       "      <th></th>\n",
       "      <th>access</th>\n",
       "      <th>site</th>\n",
       "      <th>lfn</th>\n",
       "      <th>scope</th>\n",
       "      <th>fn</th>\n",
       "      <th>b_hit</th>\n",
       "      <th>b_miss</th>\n",
       "      <th>b_bypass</th>\n",
       "      <th>fsize</th>\n",
       "      <th>fill</th>\n",
       "    </tr>\n",
       "  </thead>\n",
       "  <tbody>\n",
       "    <tr>\n",
       "      <th>0</th>\n",
       "      <td>2</td>\n",
       "      <td>AGLT2</td>\n",
       "      <td>atlas/rucio/mc15_13TeV/6f/1a/EVNT.27585588._00...</td>\n",
       "      <td>mc15_13TeV</td>\n",
       "      <td>EVNT.27585588._000719.pool.root.1</td>\n",
       "      <td>364496131</td>\n",
       "      <td>33432150</td>\n",
       "      <td>0</td>\n",
       "      <td>398338556</td>\n",
       "      <td>1.000000</td>\n",
       "    </tr>\n",
       "    <tr>\n",
       "      <th>1</th>\n",
       "      <td>2</td>\n",
       "      <td>AGLT2</td>\n",
       "      <td>atlas/rucio/mc15_13TeV/f8/f2/EVNT.27585588._00...</td>\n",
       "      <td>mc15_13TeV</td>\n",
       "      <td>EVNT.27585588._001775.pool.root.1</td>\n",
       "      <td>363018480</td>\n",
       "      <td>34105107</td>\n",
       "      <td>0</td>\n",
       "      <td>397532163</td>\n",
       "      <td>1.000000</td>\n",
       "    </tr>\n",
       "    <tr>\n",
       "      <th>2</th>\n",
       "      <td>2</td>\n",
       "      <td>AGLT2</td>\n",
       "      <td>atlas/rucio/mc15_13TeV/d5/fb/EVNT.27585588._00...</td>\n",
       "      <td>mc15_13TeV</td>\n",
       "      <td>EVNT.27585588._001661.pool.root.1</td>\n",
       "      <td>363880281</td>\n",
       "      <td>33804761</td>\n",
       "      <td>0</td>\n",
       "      <td>398093435</td>\n",
       "      <td>1.000000</td>\n",
       "    </tr>\n",
       "    <tr>\n",
       "      <th>3</th>\n",
       "      <td>8</td>\n",
       "      <td>BNL</td>\n",
       "      <td>atlas/rucio/data17_13TeV/48/63/DAOD_EXOT2.1986...</td>\n",
       "      <td>data17_13TeV</td>\n",
       "      <td>DAOD_EXOT2.19869372._000158.pool.root.1</td>\n",
       "      <td>307294784</td>\n",
       "      <td>0</td>\n",
       "      <td>0</td>\n",
       "      <td>874949234</td>\n",
       "      <td>0.721390</td>\n",
       "    </tr>\n",
       "    <tr>\n",
       "      <th>4</th>\n",
       "      <td>21</td>\n",
       "      <td>BNL</td>\n",
       "      <td>atlas/rucio/user/pfalke/96/b3/user.pfalke.2769...</td>\n",
       "      <td>user.pfalke</td>\n",
       "      <td>user.pfalke.27690994._001499.output.root</td>\n",
       "      <td>406370</td>\n",
       "      <td>4885409</td>\n",
       "      <td>0</td>\n",
       "      <td>2737217806</td>\n",
       "      <td>0.052768</td>\n",
       "    </tr>\n",
       "  </tbody>\n",
       "</table>\n",
       "</div>"
      ],
      "text/plain": [
       "   access   site                                                lfn  \\\n",
       "0       2  AGLT2  atlas/rucio/mc15_13TeV/6f/1a/EVNT.27585588._00...   \n",
       "1       2  AGLT2  atlas/rucio/mc15_13TeV/f8/f2/EVNT.27585588._00...   \n",
       "2       2  AGLT2  atlas/rucio/mc15_13TeV/d5/fb/EVNT.27585588._00...   \n",
       "3       8    BNL  atlas/rucio/data17_13TeV/48/63/DAOD_EXOT2.1986...   \n",
       "4      21    BNL  atlas/rucio/user/pfalke/96/b3/user.pfalke.2769...   \n",
       "\n",
       "          scope                                        fn      b_hit  \\\n",
       "0    mc15_13TeV         EVNT.27585588._000719.pool.root.1  364496131   \n",
       "1    mc15_13TeV         EVNT.27585588._001775.pool.root.1  363018480   \n",
       "2    mc15_13TeV         EVNT.27585588._001661.pool.root.1  363880281   \n",
       "3  data17_13TeV   DAOD_EXOT2.19869372._000158.pool.root.1  307294784   \n",
       "4   user.pfalke  user.pfalke.27690994._001499.output.root     406370   \n",
       "\n",
       "     b_miss  b_bypass       fsize      fill  \n",
       "0  33432150         0   398338556  1.000000  \n",
       "1  34105107         0   397532163  1.000000  \n",
       "2  33804761         0   398093435  1.000000  \n",
       "3         0         0   874949234  0.721390  \n",
       "4   4885409         0  2737217806  0.052768  "
      ]
     },
     "execution_count": 3,
     "metadata": {},
     "output_type": "execute_result"
    }
   ],
   "source": [
    "df = pd.read_parquet('data/xcache_2022-06-01.parquet')  \n",
    "df.drop(columns=['host'],inplace=True)\n",
    "df.head()"
   ]
  },
  {
   "cell_type": "code",
   "execution_count": 4,
   "metadata": {},
   "outputs": [],
   "source": [
    "def Acc(r):\n",
    "    cols = ['Accesses','tot files','avg acc per file', 'fill']\n",
    "    return pd.Series( (\n",
    "            r.access.sum(), r.shape[0], r.access.sum()/r.shape[0], \n",
    "            r.fill.mean())\n",
    "            , index=cols)\n",
    "\n",
    "def perc_read(r):\n",
    "    cols = ['accesses', 'read perc', 'tot hit [TB]', 'tot miss[TB]', 'tot bypass [TB]']\n",
    "    return pd.Series( \n",
    "        ( r.shape[0],  \n",
    "         ( r.b_hit.sum() + r.b_miss.sum() + r.b_bypass.sum() ) / r.fsize.sum(),\n",
    "         r.b_hit.sum()/TB, \n",
    "         r.b_miss.sum()/TB, \n",
    "         r.b_bypass.sum()/TB \n",
    "        ) ,\n",
    "        index=cols\n",
    "    )\n"
   ]
  },
  {
   "cell_type": "code",
   "execution_count": 5,
   "metadata": {},
   "outputs": [
    {
     "data": {
      "text/html": [
       "<div>\n",
       "<style scoped>\n",
       "    .dataframe tbody tr th:only-of-type {\n",
       "        vertical-align: middle;\n",
       "    }\n",
       "\n",
       "    .dataframe tbody tr th {\n",
       "        vertical-align: top;\n",
       "    }\n",
       "\n",
       "    .dataframe thead th {\n",
       "        text-align: right;\n",
       "    }\n",
       "</style>\n",
       "<table border=\"1\" class=\"dataframe\">\n",
       "  <thead>\n",
       "    <tr style=\"text-align: right;\">\n",
       "      <th></th>\n",
       "      <th>accesses</th>\n",
       "      <th>read perc</th>\n",
       "      <th>tot hit [TB]</th>\n",
       "      <th>tot miss[TB]</th>\n",
       "      <th>tot bypass [TB]</th>\n",
       "    </tr>\n",
       "    <tr>\n",
       "      <th>ext1</th>\n",
       "      <th></th>\n",
       "      <th></th>\n",
       "      <th></th>\n",
       "      <th></th>\n",
       "      <th></th>\n",
       "    </tr>\n",
       "  </thead>\n",
       "  <tbody>\n",
       "    <tr>\n",
       "      <th>root</th>\n",
       "      <td>4367401.0</td>\n",
       "      <td>0.165634</td>\n",
       "      <td>967.588444</td>\n",
       "      <td>363.297446</td>\n",
       "      <td>20.897982</td>\n",
       "    </tr>\n",
       "    <tr>\n",
       "      <th>log.tgz</th>\n",
       "      <td>215860.0</td>\n",
       "      <td>0.999972</td>\n",
       "      <td>0.046615</td>\n",
       "      <td>0.023193</td>\n",
       "      <td>0.000726</td>\n",
       "    </tr>\n",
       "    <tr>\n",
       "      <th>lib.tgz</th>\n",
       "      <td>95882.0</td>\n",
       "      <td>1.191513</td>\n",
       "      <td>6.584221</td>\n",
       "      <td>0.179301</td>\n",
       "      <td>0.016355</td>\n",
       "    </tr>\n",
       "    <tr>\n",
       "      <th>output.h5</th>\n",
       "      <td>1616.0</td>\n",
       "      <td>1.000794</td>\n",
       "      <td>0.483231</td>\n",
       "      <td>0.160896</td>\n",
       "      <td>0.000000</td>\n",
       "    </tr>\n",
       "    <tr>\n",
       "      <th>tar.gz</th>\n",
       "      <td>903.0</td>\n",
       "      <td>0.943259</td>\n",
       "      <td>0.014212</td>\n",
       "      <td>0.003880</td>\n",
       "      <td>0.000000</td>\n",
       "    </tr>\n",
       "  </tbody>\n",
       "</table>\n",
       "</div>"
      ],
      "text/plain": [
       "            accesses  read perc  tot hit [TB]  tot miss[TB]  tot bypass [TB]\n",
       "ext1                                                                        \n",
       "root       4367401.0   0.165634    967.588444    363.297446        20.897982\n",
       "log.tgz     215860.0   0.999972      0.046615      0.023193         0.000726\n",
       "lib.tgz      95882.0   1.191513      6.584221      0.179301         0.016355\n",
       "output.h5     1616.0   1.000794      0.483231      0.160896         0.000000\n",
       "tar.gz         903.0   0.943259      0.014212      0.003880         0.000000"
      ]
     },
     "execution_count": 5,
     "metadata": {},
     "output_type": "execute_result"
    }
   ],
   "source": [
    "df['ext']=df.fn.str.split('.').str[-2]+'.'+df.fn.str.split('.').str[-1]\n",
    "\n",
    "df['ext1'] = np.where(df['ext'].str.find('root')>-1, 'root', df['ext'] )\n",
    "df['ext1'] = np.where(df['ext1'].str.endswith('.1'), 'root', df['ext1'] )\n",
    "\n",
    "df.groupby('ext1').apply(perc_read).sort_values('accesses',ascending=False).head()"
   ]
  },
  {
   "cell_type": "code",
   "execution_count": 6,
   "metadata": {},
   "outputs": [
    {
     "data": {
      "text/plain": [
       "accesses           4.681871e+06\n",
       "read perc          1.664243e-01\n",
       "tot hit [TB]       9.747791e+02\n",
       "tot miss[TB]       3.637137e+02\n",
       "tot bypass [TB]    2.091506e+01\n",
       "dtype: float64"
      ]
     },
     "execution_count": 6,
     "metadata": {},
     "output_type": "execute_result"
    }
   ],
   "source": [
    "perc_read(df)"
   ]
  },
  {
   "cell_type": "markdown",
   "metadata": {},
   "source": [
    "prints percentage of file read in an average access.\n",
    "Total data delivered on hit (in TB), on miss, and bypassed."
   ]
  },
  {
   "cell_type": "markdown",
   "metadata": {},
   "source": [
    "the same but grouped per scope"
   ]
  },
  {
   "cell_type": "code",
   "execution_count": 7,
   "metadata": {},
   "outputs": [
    {
     "name": "stdout",
     "output_type": "stream",
     "text": [
      "                 accesses  read perc  tot hit [TB]  tot miss[TB]  tot bypass [TB]\n",
      "scope                                                                            \n",
      "mc16_13TeV      1621651.0   0.132937  3.992653e+02  2.307652e+02     1.014334e+01\n",
      "data18_13TeV     736960.0   0.199064  1.479719e+02  4.630360e+01     4.806284e+00\n",
      "panda            684600.0   1.033744  2.189840e+01  4.741724e+00     1.924114e-01\n",
      "mc15_13TeV       439249.0   0.288118  1.615325e+00  1.240362e+00     0.000000e+00\n",
      "data17_13TeV     297249.0   0.316342  1.000577e+02  2.588172e+01     3.206215e+00\n",
      "data16_13TeV     289179.0   0.454897  1.202956e+02  2.346653e+01     1.943588e+00\n",
      "user.stkazako    141570.0   0.000805  9.131096e-02  2.307229e-01     1.875329e-04\n",
      "data15_13TeV      72095.0   0.220195  1.214677e+01  2.627009e+00     1.253473e-01\n",
      "user.pfalke       51453.0   0.002287  8.529001e-02  4.942675e-01     0.000000e+00\n",
      "phys-exotics      47502.0   0.005843  5.055730e-01  8.141562e-01     4.561911e-04\n",
      "user.nbruscin     39074.0   1.011777  1.167223e+02  1.712608e+00     1.045930e-02\n",
      "mc20_13TeV        38347.0   0.093190  8.133566e+00  8.809707e+00     2.564060e-01\n",
      "user.calfayan     37247.0   0.003206  1.083673e-01  5.020211e-03     5.309966e-04\n",
      "user.nibrahim     37006.0   0.002382  4.078093e-02  2.098522e-01     2.609820e-03\n",
      "user.weiy         29466.0   0.437367  4.126758e-01  3.190968e-02     2.728484e-10\n",
      "user.jreidels     13445.0   0.003510  1.290903e-02  1.330950e-01     0.000000e+00\n",
      "user.yharris      13105.0   0.181447  3.828555e-02  8.355634e-02     0.000000e+00\n",
      "mc16_5TeV         10904.0   0.128521  1.873955e-01  4.233800e-01     0.000000e+00\n",
      "data18_hi          8533.0   0.115694  1.746495e+00  6.680087e-01     0.000000e+00\n",
      "user.brosser       8435.0   0.997896  1.382249e-03  6.570973e-04     0.000000e+00\n",
      "user.cwng          6639.0   0.291441  8.090556e-02  1.919882e-02     4.848078e-04\n",
      "user.vvecchio      6259.0   1.040393  1.623125e+01  4.334592e-02     1.254678e-04\n",
      "user.gimonig       5476.0   0.521021  4.500277e-01  2.946639e-02     0.000000e+00\n",
      "data16_hip8TeV     3928.0   0.171295  1.122411e+00  3.902470e+00     0.000000e+00\n",
      "user.jiling        3753.0   0.932403  2.272634e+00  1.096153e+00     5.850086e-03\n",
      "user.anburger      3218.0   0.007927  4.742451e-02  4.373086e-02     1.806376e-05\n",
      "user.zalegria      3012.0   0.005963  2.099065e-02  6.362101e-02     0.000000e+00\n",
      "mc21_13p6TeV       2673.0   0.699273  9.894126e+00  6.038071e+00     1.591891e-02\n",
      "user.mleblanc      2433.0   0.923016  1.810396e+00  1.364786e+00     3.406434e-02\n",
      "user.kristin       2227.0   0.130000  2.820932e-02  1.519959e-01     0.000000e+00\n",
      "user.mspalla       1812.0   0.016836  3.078708e-03  2.984845e-03     0.000000e+00\n",
      "det-muon           1749.0   0.991498  2.498229e-01  9.568492e-02     1.683474e-03\n",
      "user.ancuetog      1636.0   0.406336  1.848482e-01  1.301304e-02     2.974993e-03\n",
      "user.xai           1519.0   0.468685  6.467477e-01  5.942925e-01     0.000000e+00\n",
      "user.baer          1344.0   0.992572  2.891757e-02  7.267043e-03     0.000000e+00\n",
      "user.martindl      1296.0   1.000000  1.255809e-01  4.189718e-02     0.000000e+00\n",
      "user.aknue         1251.0   0.227957  4.841196e-02  6.963135e-03     0.000000e+00\n",
      "user.joheinri      1212.0   0.014083  9.208437e-03  4.629519e-02     2.441540e-05\n",
      "mc15_5TeV          1079.0   0.369550  7.835644e-03  4.519694e-04     0.000000e+00\n",
      "user.yygao          933.0   0.409283  3.035165e-01  1.488374e-01     1.865277e-02\n",
      "user.rbi            847.0   0.070109  1.964104e-03  3.905355e-02     0.000000e+00\n",
      "user.tlyubush       783.0   0.233233  1.669500e-03  3.679804e-03     2.948773e-05\n",
      "user.bcote          736.0   1.024527  5.241568e+00  3.012238e-01     1.458805e-01\n",
      "user.nkyriaco       544.0   0.185402  5.926091e-03  2.374177e-02     0.000000e+00\n",
      "mc15_14TeV          525.0   1.142926  7.298366e-01  1.237106e-02     0.000000e+00\n",
      "user.mshapiro       523.0   0.458356  7.159385e-02  6.068329e-03     0.000000e+00\n",
      "user.cyoung         519.0   0.563831  5.318536e-02  4.363680e-02     0.000000e+00\n",
      "user.tpelzer        513.0   1.042604  1.321816e+00  0.000000e+00     0.000000e+00\n",
      "user.mnaseri        501.0   0.010897  7.102245e-04  1.179345e-02     0.000000e+00\n",
      "user.jhaley         493.0   0.016714  7.757109e-04  3.696348e-04     0.000000e+00\n",
      "phys-higgs          493.0   0.914914  6.424305e-01  5.788324e-01     6.250739e-04\n",
      "user.masato         484.0   1.000000  1.793767e-01  5.706191e-02     0.000000e+00\n",
      "user.tursom         393.0   1.103914  1.144431e-02  1.180648e-03     0.000000e+00\n",
      "user.jbeaucam       376.0   0.991113  6.386484e-02  1.748047e-02     0.000000e+00\n",
      "data17_5TeV         366.0   0.022474  3.388093e-04  5.564633e-03     0.000000e+00\n",
      "user.zhenw          288.0   0.253231  1.588174e-01  4.063735e-02     0.000000e+00\n",
      "user.ravinab        285.0   0.054194  5.533085e-03  6.919290e-03     0.000000e+00\n",
      "phys-hdbs           273.0   0.000011  2.040916e-06  1.926310e-08     0.000000e+00\n",
      "user.selfarkh       217.0   0.995390  3.600728e-05  8.225441e-06     0.000000e+00\n",
      "user.operrin        216.0   0.000010  1.610952e-06  8.516508e-09     0.000000e+00\n",
      "user.jdegens        216.0   1.025498  5.026679e-01  0.000000e+00     0.000000e+00\n",
      "user.croland        190.0   0.715022  5.410187e-05  6.245127e-05     0.000000e+00\n",
      "user.lrossini       186.0   0.292848  1.246791e-01  4.777561e-02     0.000000e+00\n",
      "data15_hi           166.0   0.221271  8.277585e-03  3.545270e-03     0.000000e+00\n",
      "user.adurglis       150.0   0.007537  5.198245e-04  3.044569e-03     0.000000e+00\n",
      "valid1              150.0   1.000000  1.498821e-02  0.000000e+00     0.000000e+00\n",
      "user.cescobar       141.0   0.959375  3.176437e-01  4.759346e-02     0.000000e+00\n",
      "user.mnorfolk        96.0   0.843810  1.088576e-01  3.150669e-02     8.342862e-04\n",
      "user.dportill        95.0   0.942060  1.811956e-01  3.500250e-02     2.056360e-05\n",
      "user.jmharris        91.0   0.208770  2.891240e-05  3.043146e-05     0.000000e+00\n",
      "user.nlalloue        81.0   0.855714  4.382591e-02  1.097829e-02     0.000000e+00\n",
      "user.evandewa        76.0   0.023296  1.037663e-03  7.424230e-04     4.243095e-05\n",
      "user.nasbah          61.0   0.491445  2.567113e-03  5.756318e-05     0.000000e+00\n",
      "user.tkaji           50.0   1.000000  1.224194e-03  2.696549e-04     0.000000e+00\n",
      "user.valentem        39.0   0.000736  5.589276e-05  1.676940e-05     0.000000e+00\n",
      "user.sabidi          34.0   0.118302  1.681829e-03  3.359305e-05     0.000000e+00\n",
      "user.tanakamu        29.0   0.945995  3.994310e-02  1.331524e-02     0.000000e+00\n",
      "user.ycao            26.0   1.029973  1.777788e-03  4.323382e-04     0.000000e+00\n",
      "user.ysmirnov        14.0   0.416866  5.756422e-06  2.279545e-06     0.000000e+00\n",
      "user.tadej           13.0   0.000003  6.399659e-08  1.277022e-08     0.000000e+00\n",
      "user.metsai          11.0   0.272726  1.202640e-03  1.269182e-04     0.000000e+00\n",
      "user.ladamczy        10.0   1.000000  9.523140e-03  2.019907e-03     0.000000e+00\n",
      "user.arelycg          8.0   1.000000  1.617693e-02  5.867780e-03     0.000000e+00\n",
      "user.nihartma         6.0   1.000000  6.623546e-04  1.325150e-04     0.000000e+00\n",
      "user.mahsan           6.0   0.008478  1.777210e-05  1.301384e-04     0.000000e+00\n",
      "user.balabram         6.0   1.000000  8.480674e-08  1.695817e-07     0.000000e+00\n",
      "user.chhayes          5.0   1.000000  1.631868e-03  5.441410e-04     0.000000e+00\n",
      "user.adohnalo         4.0   0.499499  6.512837e-04  5.938015e-06     0.000000e+00\n",
      "user.diwillia         3.0   0.337600  1.923411e-04  2.015111e-03     0.000000e+00\n",
      "user.dcamarer         2.0   0.418788  2.169153e-04  4.077117e-03     0.000000e+00\n",
      "user.galbouy          2.0   0.238175  1.277257e-05  6.420046e-05     0.000000e+00\n",
      "user.vasenthi         2.0   1.000000  2.177249e-04  7.259846e-05     0.000000e+00\n",
      "user.ksugizak         2.0   1.000000  1.759043e-03  5.864501e-04     0.000000e+00\n",
      "user.srettie          2.0   0.386684  2.545590e-04  5.405400e-05     0.000000e+00\n",
      "user.rvinasco         2.0   0.314303  1.758879e-04  0.000000e+00     0.000000e+00\n",
      "user.emily            1.0   1.000000  3.359115e-04  1.119971e-04     0.000000e+00\n",
      "user.sgotz            1.0   1.000000  5.313329e-04  1.771450e-04     0.000000e+00\n"
     ]
    }
   ],
   "source": [
    "print(df.groupby('scope').apply(perc_read).sort_values('accesses',ascending=False).to_string())"
   ]
  },
  {
   "cell_type": "markdown",
   "metadata": {},
   "source": [
    "and grouped by site"
   ]
  },
  {
   "cell_type": "code",
   "execution_count": 8,
   "metadata": {},
   "outputs": [
    {
     "name": "stdout",
     "output_type": "stream",
     "text": [
      "             accesses  read perc  tot hit [TB]  tot miss[TB]  tot bypass [TB]\n",
      "site                                                                         \n",
      "MWT2        1693568.0   0.094827    153.139817    119.388625         1.027513\n",
      "AGLT2       1139053.0   0.090452    121.777575    100.863091         2.236732\n",
      "NET2         677395.0   0.678729    512.762376     82.455900        17.650819\n",
      "BNL          502404.0   0.145985     90.693096     23.366053         0.000000\n",
      "LRZ-LMU      177954.0   0.148214     36.173795     10.493323         0.000000\n",
      "SWT2         164956.0   0.089432     18.476801     19.300001         0.000000\n",
      "Birmingham   163857.0   0.104666     11.053031      3.901255         0.000000\n",
      "praguelcg2   162684.0   0.148729     30.702659      3.945403         0.000000\n"
     ]
    }
   ],
   "source": [
    "print(df.groupby('site').apply(perc_read).sort_values('accesses',ascending=False).to_string())"
   ]
  },
  {
   "cell_type": "markdown",
   "metadata": {},
   "source": [
    "total number of accesses. number of unique files. average number of times files were accessed, and current file fill factor."
   ]
  },
  {
   "cell_type": "code",
   "execution_count": 9,
   "metadata": {},
   "outputs": [
    {
     "name": "stdout",
     "output_type": "stream",
     "text": [
      "Accesses            5.013969e+06\n",
      "tot files           1.271288e+06\n",
      "avg acc per file    3.944007e+00\n",
      "fill                8.988877e-01\n",
      "dtype: float64\n"
     ]
    }
   ],
   "source": [
    "idx = df.groupby(['lfn'])['access'].transform(max) == df['access']\n",
    "mdf = df[idx]\n",
    "print(Acc(mdf))"
   ]
  },
  {
   "cell_type": "code",
   "execution_count": 38,
   "metadata": {},
   "outputs": [
    {
     "name": "stdout",
     "output_type": "stream",
     "text": [
      "                 Accesses  tot files  avg acc per file      fill\n",
      "scope                                                           \n",
      "mc16_13TeV      1596559.0   227556.0          7.016115  0.739315\n",
      "data18_13TeV    1032229.0   122145.0          8.450849  0.768549\n",
      "panda            684750.0   591651.0          1.157355  0.993794\n",
      "mc15_13TeV       433781.0   116448.0          3.725105  0.998665\n",
      "data16_13TeV     344636.0    61673.0          5.588118  0.889068\n",
      "data17_13TeV     328646.0    67536.0          4.866234  0.822979\n",
      "data15_13TeV     100511.0    11355.0          8.851695  0.834995\n",
      "user.stkazako     80546.0      443.0        181.819413  0.403915\n",
      "phys-exotics      57371.0      995.0         57.659296  0.466399\n",
      "user.pfalke       44194.0      710.0         62.245070  0.271808\n",
      "user.nbruscin     40253.0     1676.0         24.017303  0.999925\n",
      "user.calfayan     37245.0      184.0        202.418478  0.999751\n",
      "user.nibrahim     30994.0      288.0        107.618056  0.487499\n",
      "mc20_13TeV        30511.0     8295.0          3.678240  0.541284\n",
      "user.weiy         28536.0    13661.0          2.088866  0.891536\n",
      "user.zalegria     18976.0       36.0        527.111111  0.972232\n",
      "user.jreidels     13445.0       48.0        280.104167  0.932297\n",
      "user.yharris      13053.0     6894.0          1.893386  0.647794\n",
      "data18_hi         12546.0     2816.0          4.455256  0.384411\n",
      "mc16_5TeV         11090.0     4327.0          2.562977  0.393032\n",
      "user.brosser       8435.0     8394.0          1.004884  1.000000\n",
      "user.cwng          6644.0     1085.0          6.123502  0.995856\n",
      "user.vvecchio      6585.0      209.0         31.507177  1.000000\n",
      "user.anburger      5349.0       51.0        104.882353  0.617988\n",
      "user.gimonig       5132.0     1636.0          3.136919  0.943888\n",
      "data16_hip8TeV     3981.0     1295.0          3.074131  0.468053\n",
      "user.jiling        3739.0     3532.0          1.058607  0.994680\n",
      "mc21_13p6TeV       2656.0     1756.0          1.512528  0.978956\n",
      "user.mleblanc      2433.0     2212.0          1.099910  0.995694\n",
      "user.kristin       2188.0      467.0          4.685225  0.844118\n",
      "det-muon           1934.0      905.0          2.137017  0.998291\n",
      "user.mspalla       1771.0      699.0          2.533619  0.569636\n",
      "user.ancuetog      1636.0      713.0          2.294530  0.675799\n",
      "user.xai           1519.0      387.0          3.925065  1.000000\n",
      "user.baer          1344.0     1208.0          1.112583  1.000000\n",
      "user.martindl      1296.0     1296.0          1.000000  1.000000\n",
      "user.bcote         1238.0      378.0          3.275132  1.000000\n",
      "user.aknue         1236.0      815.0          1.516564  0.735736\n",
      "user.joheinri      1181.0      280.0          4.217857  0.214079\n",
      "mc15_5TeV          1079.0      400.0          2.697500  0.999915\n",
      "user.jhaley        1021.0       89.0         11.471910  0.152218\n",
      "user.yygao          916.0      349.0          2.624642  0.915303\n",
      "user.tpelzer        884.0       13.0         68.000000  1.000000\n",
      "user.rbi            847.0      385.0          2.200000  0.263763\n",
      "user.tlyubush       783.0      210.0          3.728571  0.933125\n",
      "user.nkyriaco       527.0      328.0          1.606707  0.644345\n",
      "mc15_14TeV          525.0       40.0         13.125000  1.000000\n",
      "user.mshapiro       523.0      240.0          2.179167  1.000000\n",
      "user.cyoung         517.0      414.0          1.248792  0.989664\n",
      "user.mnaseri        501.0       54.0          9.277778  0.088101\n",
      "phys-higgs          488.0      424.0          1.150943  0.998147\n",
      "user.masato         484.0      437.0          1.107551  1.000000\n",
      "valid1              414.0       10.0         41.400000  1.000000\n",
      "user.tursom         391.0      184.0          2.125000  1.000000\n",
      "user.jdegens        381.0       55.0          6.927273  1.000000\n",
      "user.jbeaucam       368.0      317.0          1.160883  0.988970\n",
      "data17_5TeV         308.0      149.0          2.067114  0.214967\n",
      "user.zhenw          280.0      135.0          2.074074  0.315113\n",
      "user.ravinab        267.0       52.0          5.134615  0.477047\n",
      "phys-hdbs           262.0       16.0         16.375000  0.003999\n",
      "user.operrin        259.0       23.0         11.260870  0.002420\n",
      "user.selfarkh       209.0      130.0          1.607692  1.000000\n",
      "user.croland        190.0       96.0          1.979167  1.000000\n",
      "user.lrossini       186.0       93.0          2.000000  0.620972\n",
      "data15_hi           166.0       93.0          1.784946  0.630812\n",
      "user.cescobar       139.0       74.0          1.878378  1.000000\n",
      "user.evandewa       113.0       17.0          6.647059  0.067611\n",
      "user.adurglis       110.0       11.0         10.000000  0.351305\n",
      "user.jmharris        96.0       35.0          2.742857  0.976190\n",
      "user.mnorfolk        94.0       89.0          1.056180  0.863931\n",
      "user.nlalloue        81.0       55.0          1.472727  0.841992\n",
      "user.dportill        62.0       27.0          2.296296  1.000000\n",
      "user.nasbah          61.0       30.0          2.033333  1.000000\n",
      "user.tkaji           47.0       33.0          1.424242  1.000000\n",
      "user.valentem        39.0       12.0          3.250000  0.072251\n",
      "user.tanakamu        29.0       29.0          1.000000  0.946098\n",
      "user.sabidi          27.0       13.0          2.076923  0.315075\n",
      "user.ycao            23.0       12.0          1.916667  1.000000\n",
      "user.ysmirnov        14.0        7.0          2.000000  1.000000\n",
      "user.tadej           13.0       13.0          1.000000  0.000216\n",
      "user.metsai          11.0        3.0          3.666667  1.000000\n",
      "user.rvinasco         8.0        1.0          8.000000  0.806122\n",
      "user.arelycg          8.0        8.0          1.000000  1.000000\n",
      "user.ladamczy         7.0        4.0          1.750000  1.000000\n",
      "user.mahsan           6.0        2.0          3.000000  0.061983\n",
      "user.nihartma         6.0        2.0          3.000000  1.000000\n",
      "user.balabram         6.0        4.0          1.500000  1.000000\n",
      "user.chhayes          5.0        5.0          1.000000  1.000000\n",
      "user.adohnalo         4.0        1.0          4.000000  1.000000\n",
      "user.diwillia         3.0        1.0          3.000000  1.000000\n",
      "user.vasenthi         2.0        2.0          1.000000  1.000000\n",
      "user.ksugizak         2.0        2.0          1.000000  1.000000\n",
      "user.srettie          2.0        1.0          2.000000  0.908005\n",
      "user.dcamarer         2.0        1.0          2.000000  0.899321\n",
      "user.galbouy          2.0        1.0          2.000000  0.817109\n",
      "user.sgotz            1.0        1.0          1.000000  1.000000\n",
      "user.emily            1.0        1.0          1.000000  1.000000\n"
     ]
    },
    {
     "data": {
      "image/png": "[encoded data removed]",
      "text/plain": [
       "<Figure size 1296x432 with 3 Axes>"
      ]
     },
     "metadata": {
      "needs_background": "light"
     },
     "output_type": "display_data"
    }
   ],
   "source": [
    "groups=mdf.groupby('scope').apply(Acc).sort_values('Accesses',ascending=False)\n",
    "print(groups.to_string())\n",
    "\n",
    "fig, (ax1, ax2,ax3) = plt.subplots(1, 3)\n",
    "groups[:20].plot.bar( y=['Accesses','tot files'], ax=ax1)\n",
    "groups[:20].plot.bar( y=['avg acc per file'], ax=ax2, logy=True)\n",
    "groups[:20].plot.bar( y=['fill'], ax=ax3)\n",
    "fig.set_size_inches(18, 6)\n",
    "plt.show()\n",
    "# fig.savefig('accesses and files per scope.png', dpi=100)"
   ]
  },
  {
   "cell_type": "code",
   "execution_count": 41,
   "metadata": {},
   "outputs": [
    {
     "name": "stdout",
     "output_type": "stream",
     "text": [
      "             Accesses  tot files  avg acc per file      fill\n",
      "site                                                        \n",
      "MWT2        1552881.0   359148.0          4.323791  0.879818\n",
      "AGLT2       1416846.0   160150.0          8.846993  0.742648\n",
      "NET2         663398.0   348430.0          1.903963  0.963934\n",
      "BNL          441037.0   223291.0          1.975167  0.972856\n",
      "LRZ-LMU      408749.0    40739.0         10.033359  0.677242\n",
      "SWT2         187879.0    23739.0          7.914360  0.682557\n",
      "Birmingham   178188.0   102798.0          1.733380  0.974825\n",
      "praguelcg2   164991.0    12993.0         12.698453  0.825690\n"
     ]
    },
    {
     "data": {
      "image/png": "[encoded data removed]",
      "text/plain": [
       "<Figure size 1296x432 with 3 Axes>"
      ]
     },
     "metadata": {
      "needs_background": "light"
     },
     "output_type": "display_data"
    }
   ],
   "source": [
    "groups=mdf.groupby('site').apply(Acc).sort_values('Accesses',ascending=False)\n",
    "print(groups.to_string())\n",
    "\n",
    "fig, (ax1, ax2,ax3) = plt.subplots(1, 3)\n",
    "groups.plot.bar( y=['Accesses','tot files'], ax=ax1)\n",
    "groups.plot.bar( y=['avg acc per file'], ax=ax2, logy=False)\n",
    "groups.plot.bar( y=['fill'], ax=ax3)\n",
    "fig.set_size_inches(18, 6)\n",
    "plt.show()\n",
    "# fig.savefig('accesses and files per scope.png', dpi=100)"
   ]
  },
  {
   "cell_type": "markdown",
   "metadata": {},
   "source": [
    "Frequently accessed files"
   ]
  },
  {
   "cell_type": "code",
   "execution_count": 12,
   "metadata": {},
   "outputs": [
    {
     "name": "stdout",
     "output_type": "stream",
     "text": [
      "                    Accesses  tot files  avg acc per file      fill\n",
      "ext1                                                               \n",
      "root               4699066.0  1044792.0          4.497609  0.878639\n",
      "log.tgz             215856.0   213141.0          1.012738  0.992688\n",
      "lib.tgz              96061.0    10952.0          8.771092  0.988173\n",
      "output.h5             1616.0     1616.0          1.000000  1.000000\n",
      "tar.gz                 880.0      656.0          1.341463  0.998659\n",
      "28224148._0001          70.0        2.0         35.000000  0.102272\n",
      "_0002.2                 52.0       20.0          2.600000  0.439503\n",
      "28224193._0002          51.0        1.0         51.000000  0.207170\n",
      "26729008._              39.0        1.0         39.000000  1.000000\n",
      "_0001.2                 39.0       18.0          2.166667  0.351662\n",
      "_0003.2                 35.0       15.0          2.333333  0.365523\n",
      "28224148._0000          33.0        1.0         33.000000  0.088209\n",
      "_0001.data              19.0       17.0          1.117647  1.000000\n",
      "_000048.                10.0        1.0         10.000000  0.545241\n",
      "pool.                    9.0        3.0          3.000000  1.000000\n",
      "26875582._0002           8.0        2.0          4.000000  0.070266\n",
      "_0006.2                  8.0        3.0          2.666667  0.595824\n",
      "26875582._0000           8.0        2.0          4.000000  0.030017\n",
      "26875582._0001           8.0        2.0          4.000000  0.039945\n",
      "_0005.2                  7.0        3.0          2.333333  0.362426\n",
      "27819648._0002           6.0        1.0          6.000000  0.952381\n",
      "26853435._000291         6.0        1.0          6.000000  0.064181\n",
      "26257161._0002           6.0        1.0          6.000000  0.008068\n",
      "25513751._0001           6.0        1.0          6.000000  0.040445\n",
      "_0004.2                  6.0        3.0          2.000000  0.387202\n",
      "_0004.data               5.0        3.0          1.666667  1.000000\n",
      "25523054._000109         5.0        1.0          5.000000  0.012299\n",
      "26853435._000577         4.0        1.0          4.000000  0.876281\n",
      "26853435._000444         4.0        1.0          4.000000  0.881121\n",
      "26853435._000312         4.0        1.0          4.000000  0.875094\n",
      "26853435._000166         4.0        1.0          4.000000  0.873059\n",
      "18119447._0001           3.0        1.0          3.000000  0.854912\n",
      "_0002.data               3.0        2.0          1.500000  1.000000\n",
      "25525854._000138         3.0        1.0          3.000000  0.001346\n",
      "_000235.                 2.0        1.0          2.000000  0.190351\n",
      "npart-xy.dat             2.0        2.0          1.000000  1.000000\n",
      "uranium.dat              2.0        2.0          1.000000  1.000000\n",
      "22768726._0001           2.0        1.0          2.000000  0.335041\n",
      "23588465._00000          2.0        1.0          2.000000  0.755515\n",
      "25523054._000090         2.0        1.0          2.000000  0.001377\n",
      "partontimets0.dat        2.0        2.0          1.000000  1.000000\n",
      "29226096._00047          2.0        1.0          2.000000  0.671049\n",
      "22768726._0000           2.0        1.0          2.000000  0.308082\n",
      "ampt2.dat                2.0        2.0          1.000000  1.000000\n",
      "ampt1.dat                2.0        2.0          1.000000  1.000000\n",
      "_0007.2                  2.0        1.0          2.000000  0.393814\n",
      "_000690.                 2.0        1.0          2.000000  0.563164\n",
      "zpc.dat                  2.0        2.0          1.000000  1.000000\n",
      "_0005.data               1.0        1.0          1.000000  1.000000\n"
     ]
    }
   ],
   "source": [
    "print(mdf.groupby('ext1').apply(Acc).sort_values('Accesses',ascending=False).to_string())"
   ]
  },
  {
   "cell_type": "code",
   "execution_count": 13,
   "metadata": {},
   "outputs": [],
   "source": [
    "\n",
    "# ldf.index = pd.to_datetime(ldf[\"time\"])\n",
    "# # ldf.plot(y=[\"loss\"],figsize=(15,4), style='.')\n",
    "# groups = ldf.groupby(\"host\")\n",
    "# for name, group in groups:\n",
    "#     # plt.plot()\n",
    "#     plt.plot(group[\"loss\"], marker=\"o\", linestyle=\"\", label=name)\n",
    "# plt.legend()\n",
    "# fig = matplotlib.pyplot.gcf()\n",
    "# fig.set_size_inches(18.5, 10.5)\n",
    "# # fig.savefig('losses.png', dpi=100)"
   ]
  }
 ],
 "metadata": {
  "kernelspec": {
   "display_name": "Python 3 (ipykernel)",
   "language": "python",
   "name": "python3"
  },
  "language_info": {
   "codemirror_mode": {
    "name": "ipython",
    "version": 3
   },
   "file_extension": ".py",
   "mimetype": "text/x-python",
   "name": "python",
   "nbconvert_exporter": "python",
   "pygments_lexer": "ipython3",
   "version": "3.8.10"
  },
  "metadata": {
   "interpreter": {
    "hash": "b0fd81116839c8ba9399dcfb2eae5ba98e1e79c2454f8cc2afdf03430767bf47"
   }
  },
  "vscode": {
   "interpreter": {
    "hash": "6de901b11d06e4b44e036d3fc3c35e3a50f57bab0f4138079b9450aa16e5c10b"
   }
  }
 },
 "nbformat": 4,
 "nbformat_minor": 4
}
